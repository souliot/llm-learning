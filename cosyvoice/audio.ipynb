{
 "cells": [
  {
   "cell_type": "code",
   "execution_count": 2,
   "id": "d43c84d7-0f52-47e9-aa47-5735264f3a9d",
   "metadata": {},
   "outputs": [
    {
     "name": "stderr",
     "output_type": "stream",
     "text": [
      "Downloading: 100%|███████████████████████████████████████████████████████████████████████████████████████████████████████████████████████| 47.0/47.0 [00:00<00:00, 265B/s]\n",
      "Downloading: 100%|███████████████████████████████████████████████████████████████████████████████████████████████████████████████████| 6.71k/6.71k [00:00<00:00, 40.3kB/s]\n",
      "Downloading: 100%|█████████████████████████████████████████████████████████████████████████████████████████████████████████████████████| 248M/248M [00:05<00:00, 45.8MB/s]\n",
      "Downloading: 100%|███████████████████████████████████████████████████████████████████████████████████████████████████████████████████| 3.61M/3.61M [00:00<00:00, 10.7MB/s]\n"
     ]
    },
    {
     "data": {
      "text/plain": [
       "'../modelscope/iic/CosyVoice-ttsfrd'"
      ]
     },
     "execution_count": 2,
     "metadata": {},
     "output_type": "execute_result"
    }
   ],
   "source": [
    "from modelscope import snapshot_download\n",
    "snapshot_download('iic/CosyVoice-300M', cache_dir='../modelscope')\n",
    "snapshot_download('iic/CosyVoice-300M-SFT',  cache_dir='../modelscope')\n",
    "snapshot_download('iic/CosyVoice-300M-Instruct',  cache_dir='../modelscope')\n",
    "snapshot_download('iic/CosyVoice-ttsfrd',  cache_dir='../modelscope')"
   ]
  },
  {
   "cell_type": "code",
   "execution_count": null,
   "id": "b7b60580-1242-4a6d-a6a9-c4555432f580",
   "metadata": {},
   "outputs": [],
   "source": [
    "from cosyvoice.cli.cosyvoice import CosyVoice\n",
    "from cosyvoice.utils.file_utils import load_wav\n",
    "import torchaudio\n",
    "\n",
    "cosyvoice = CosyVoice('pretrained_models/CosyVoice-300M-SFT')\n",
    "# sft usage\n",
    "print(cosyvoice.list_avaliable_spks())\n",
    "output = cosyvoice.inference_sft('你好，我是通义生成式语音大模型，请问有什么可以帮您的吗？', '中文女')\n",
    "torchaudio.save('sft.wav', output['tts_speech'], 22050)\n",
    "\n",
    "cosyvoice = CosyVoice('pretrained_models/CosyVoice-300M')\n",
    "# zero_shot usage, <|zh|><|en|><|jp|><|yue|><|ko|> for Chinese/English/Japanese/Cantonese/Korean\n",
    "prompt_speech_16k = load_wav('zero_shot_prompt.wav', 16000)\n",
    "output = cosyvoice.inference_zero_shot('收到好友从远方寄来的生日礼物，那份意外的惊喜与深深的祝福让我心中充满了甜蜜的快乐，笑容如花儿般绽放。', '希望你以后能够做的比我还好呦。', prompt_speech_16k)\n",
    "torchaudio.save('zero_shot.wav', output['tts_speech'], 22050)\n",
    "# cross_lingual usage\n",
    "prompt_speech_16k = load_wav('cross_lingual_prompt.wav', 16000)\n",
    "output = cosyvoice.inference_cross_lingual('<|en|>And then later on, fully acquiring that company. So keeping management in line, interest in line with the asset that\\'s coming into the family is a reason why sometimes we don\\'t buy the whole thing.', prompt_speech_16k)\n",
    "torchaudio.save('cross_lingual.wav', output['tts_speech'], 22050)\n",
    "\n",
    "cosyvoice = CosyVoice('pretrained_models/CosyVoice-300M-Instruct')\n",
    "# instruct usage, support <laughter></laughter><strong></strong>[laughter][breath]\n",
    "output = cosyvoice.inference_instruct('在面对挑战时，他展现了非凡的<strong>勇气</strong>与<strong>智慧</strong>。', '中文男', 'Theo \\'Crimson\\', is a fiery, passionate rebel leader. Fights with fervor for justice, but struggles with impulsiveness.')\n",
    "torchaudio.save('instruct.wav', output['tts_speech'], 22050)"
   ]
  }
 ],
 "metadata": {
  "kernelspec": {
   "display_name": "Python 3 (ipykernel)",
   "language": "python",
   "name": "python3"
  },
  "language_info": {
   "codemirror_mode": {
    "name": "ipython",
    "version": 3
   },
   "file_extension": ".py",
   "mimetype": "text/x-python",
   "name": "python",
   "nbconvert_exporter": "python",
   "pygments_lexer": "ipython3",
   "version": "3.10.14"
  }
 },
 "nbformat": 4,
 "nbformat_minor": 5
}
